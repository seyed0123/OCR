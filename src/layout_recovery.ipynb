{
 "cells": [
  {
   "cell_type": "code",
   "execution_count": null,
   "metadata": {
    "collapsed": true,
    "pycharm": {
     "name": "#%%\n"
    }
   },
   "outputs": [],
   "source": [
    "!python -m pip install paddlepaddle-gpu==2.4.1.post112 -f https://www.paddlepaddle.org.cn/whl/linux/mkl/avx/stable.html\n",
    "!git clone https://github.com/PaddlePaddle/PaddleOCR.git\n",
    "%cd /content/PaddleOCR\n",
    "!pip install -r requirements.txt\n",
    "!pip install --upgrade paddleocr\n",
    "!pip install fpdf\n",
    "!pip install langdetect"
   ]
  },
  {
   "cell_type": "code",
   "execution_count": null,
   "outputs": [],
   "source": [
    "from paddleocr import PaddleOCR\n",
    "import matplotlib.pyplot as plt\n",
    "import cv2\n",
    "\n",
    "# Initialize PaddleOCR with the Farsi language model\n",
    "fa_ocr = PaddleOCR(use_angle_cls=True, lang='fa', use_gpu=False)\n",
    "\n",
    "en_ocr = PaddleOCR(use_angle_cls=True, lang='en', use_gpu=False)\n",
    "\n",
    "# Read the image containing the Farsi text\n",
    "img_path = '/out/p1.jpg'\n",
    "\n",
    "image = cv2.imread(img_path)\n",
    "\n",
    "\n",
    "# Perform OCR on the image\n",
    "result = fa_ocr.ocr(img_path, cls=True)\n",
    "\n",
    "en_results = en_ocr.ocr(img_path,cls=True)\n",
    "\n",
    "\n",
    "print(en_results)\n",
    "\n",
    "print(result)\n",
    "\n",
    "# Print the length of the result list\n",
    "print(\"Number of text boxes detected:\", len(*result))"
   ],
   "metadata": {
    "collapsed": false,
    "pycharm": {
     "name": "#%%\n"
    }
   }
  },
  {
   "cell_type": "code",
   "execution_count": null,
   "outputs": [],
   "source": [
    "def text_accur(text_boxs):\n",
    "  ret = []\n",
    "  #print(text_boxs)\n",
    "  for text in text_boxs:\n",
    "    accur = text[1][1]\n",
    "    #print(text , accur)\n",
    "    if(accur>0.92):\n",
    "      ret.append(text)\n",
    "  return ret"
   ],
   "metadata": {
    "collapsed": false,
    "pycharm": {
     "name": "#%%\n"
    }
   }
  },
  {
   "cell_type": "code",
   "execution_count": null,
   "outputs": [],
   "source": [
    "result[0] = text_accur(result[0])"
   ],
   "metadata": {
    "collapsed": false,
    "pycharm": {
     "name": "#%%\n"
    }
   }
  },
  {
   "cell_type": "code",
   "execution_count": null,
   "outputs": [],
   "source": [
    "def merge_sort(results,avg):\n",
    "    if len(results) <= 1:\n",
    "        return results\n",
    "\n",
    "    # Divide the list into two halves\n",
    "    mid = len(results) // 2\n",
    "    left_half = results[:mid]\n",
    "    right_half = results[mid:]\n",
    "\n",
    "    # Recursively sort each half\n",
    "    left_sorted = merge_sort(left_half,avg)\n",
    "    right_sorted = merge_sort(right_half,avg)\n",
    "\n",
    "    # Merge the sorted halves\n",
    "    merged = []\n",
    "    left_index = 0\n",
    "    right_index = 0\n",
    "    while left_index < len(left_sorted) and right_index < len(right_sorted):\n",
    "        # Sort by right-to-left order\n",
    "        if abs(left_sorted[left_index][0][4][1] - right_sorted[right_index][0][4][1]) < avg/4:\n",
    "          if left_sorted[left_index][0][4][0] < right_sorted[right_index][0][4][0] :\n",
    "             merged.append(right_sorted[right_index])\n",
    "             right_index += 1\n",
    "          else:\n",
    "              merged.append(left_sorted[left_index])\n",
    "              left_index += 1\n",
    "        else:\n",
    "            if left_sorted[left_index][0][4][1] > right_sorted[right_index][0][4][1] :\n",
    "              merged.append(right_sorted[right_index])\n",
    "              right_index += 1\n",
    "            else:\n",
    "              merged.append(left_sorted[left_index])\n",
    "              left_index += 1\n",
    "\n",
    "    # Append the remaining elements (if any)\n",
    "    merged += left_sorted[left_index:]\n",
    "    merged += right_sorted[right_index:]\n",
    "\n",
    "    return merged"
   ],
   "metadata": {
    "collapsed": false,
    "pycharm": {
     "name": "#%%\n"
    }
   }
  },
  {
   "cell_type": "code",
   "execution_count": null,
   "outputs": [],
   "source": [
    "def sorting(word_list):\n",
    "  import statistics\n",
    "  avg=0\n",
    "  num=[]\n",
    "  for item in word_list[0]:\n",
    "      corners, text = item\n",
    "      center_x = sum([corner[0] for corner in corners]) / 4\n",
    "      center_y = sum([corner[1] for corner in corners]) / 4\n",
    "      center = [center_x, center_y]\n",
    "      num.append((corners[2][1]+corners[3][1])-(corners[0][1] +corners[1][1]))\n",
    "      corners.append(center)\n",
    "  avg = average = statistics.mean(num)\n",
    "  return (avg,merge_sort(*word_list,avg))"
   ],
   "metadata": {
    "collapsed": false,
    "pycharm": {
     "name": "#%%\n"
    }
   }
  },
  {
   "cell_type": "code",
   "execution_count": null,
   "outputs": [],
   "source": [
    "#sorting\n",
    "print(result)\n",
    "avg,result=sorting(result)\n",
    "print(result)"
   ],
   "metadata": {
    "collapsed": false,
    "pycharm": {
     "name": "#%%\n"
    }
   }
  },
  {
   "cell_type": "code",
   "execution_count": null,
   "outputs": [],
   "source": [
    "Total_text=''\n",
    "line =0\n",
    "for item in result:\n",
    "    corners, text = item\n",
    "    if abs(line - corners[4][1]) > avg/4:\n",
    "      Total_text+='\\n'\n",
    "    line = corners[4][1]\n",
    "    Total_text+=text[0][-1::-1]+' '\n",
    "    x1, y1 = int(corners[0][0]), int(corners[0][1])\n",
    "    x2, y2 = int(corners[2][0]), int(corners[2][1])\n",
    "    cv2.rectangle(image, (x1, y1), (x2, y2), (0, 255, 0), 2)\n",
    "print(Total_text)\n",
    "# Display the image with bounding boxes\n",
    "plt.imshow(image)\n",
    "plt.show()\n",
    "plt.save('result.jpg')"
   ],
   "metadata": {
    "collapsed": false,
    "pycharm": {
     "name": "#%%\n"
    }
   }
  },
  {
   "cell_type": "code",
   "execution_count": null,
   "outputs": [],
   "source": [
    "with open('/out/index.html', 'w') as f:\n",
    "  text='''\n",
    "  <!DOCTYPE html>\n",
    "<html>\n",
    "<head>\n",
    "  <title>Page Title</title>\n",
    "  <style>\n",
    "    .rainbow-text {\n",
    "      background: linear-gradient(to right, red, orange, yellow, green, blue, indigo, violet);\n",
    "      -webkit-background-clip: text;\n",
    "      -webkit-text-fill-color: transparent;\n",
    "      text-align: center;\n",
    "    }\n",
    "  </style>\n",
    "</head>\n",
    "<body >\n",
    "\n",
    "  <section onresize=\"updateFontSize()\">\n",
    "  '''\n",
    "  text+=f'<img src=\"{img_path}\">\\n'\n",
    "  for item in result:\n",
    "    corners, content = item\n",
    "    text+='<p class=\"rainbow-text\"  onresize=\"updateFontSize()\" style=\"position:absolute; overflow: auto; font-size: 30px;'\n",
    "    text+= f'top:{corners[4][1]}px; left:{corners[4][0]}px;\">{content[0][-1::-1]}</p>\\n'\n",
    "  text+='''\n",
    "  </section>\n",
    "\n",
    "</body>\n",
    "</html>\n",
    "  '''\n",
    "  f.write(text)"
   ],
   "metadata": {
    "collapsed": false,
    "pycharm": {
     "name": "#%%\n"
    }
   }
  },
  {
   "cell_type": "code",
   "execution_count": null,
   "outputs": [],
   "source": [
    "from fpdf import FPDF\n",
    "import arabic_reshaper\n",
    "import langdetect\n",
    "\n",
    "from bidi.algorithm import get_display\n",
    "class PDF(FPDF):\n",
    "   pass\n",
    "\n",
    "image_height, image_width, _ = image.shape\n",
    "print(image_height, image_width , '\\n\\n')\n",
    "\n",
    "pdf=PDF(orientation='P', unit='mm', format=(image_width*1.2, image_height*1.2))\n",
    "pdf.add_font('DejaVu', '', '/out/font.ttf', uni=True)\n",
    "\n",
    "pdf.add_page()\n",
    "pdf.set_font('DejaVu', '', avg/2)\n",
    "\n",
    "for item in result:\n",
    "    corners, text = item\n",
    "    try:\n",
    "      print(text[0] , langdetect.detect(text[0]))\n",
    "\n",
    "      if langdetect.detect(text[0])=='ar' or langdetect.detect(text[0])=='fa':\n",
    "        text=text[0][-1::-1]\n",
    "\n",
    "        x, y = corners[4]\n",
    "\n",
    "        pdf.set_xy(x, y)\n",
    "\n",
    "        text = arabic_reshaper.reshape(text)\n",
    "\n",
    "        pdf.cell(200, 10, txt=get_display(text), ln=1, align=\"C\")\n",
    "      else:\n",
    "        text=text[0]\n",
    "        x, y = corners[4]\n",
    "        pdf.set_xy(x, y)\n",
    "        pdf.cell(200, 10, txt=text, ln=1, align=\"C\")\n",
    "    except:\n",
    "      text=text[0]\n",
    "      x, y = corners[4]\n",
    "      pdf.set_xy(x, y)\n",
    "      pdf.cell(200, 10, txt=text, ln=1, align=\"C\")\n",
    "pdf.output('/out/index.pdf')"
   ],
   "metadata": {
    "collapsed": false,
    "pycharm": {
     "name": "#%%\n"
    }
   }
  }
 ],
 "metadata": {
  "kernelspec": {
   "display_name": "Python 3",
   "language": "python",
   "name": "python3"
  },
  "language_info": {
   "codemirror_mode": {
    "name": "ipython",
    "version": 2
   },
   "file_extension": ".py",
   "mimetype": "text/x-python",
   "name": "python",
   "nbconvert_exporter": "python",
   "pygments_lexer": "ipython2",
   "version": "2.7.6"
  }
 },
 "nbformat": 4,
 "nbformat_minor": 0
}